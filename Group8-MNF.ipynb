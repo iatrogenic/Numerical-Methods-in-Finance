{
 "cells": [
  {
   "cell_type": "markdown",
   "id": "77e3eebc",
   "metadata": {},
   "source": [
    "# Group Assignment for Numerical Methods in Finance\n",
    "### By: Lucas Carvalho, Rúben Mendes, and Martim Costa."
   ]
  },
  {
   "cell_type": "markdown",
   "id": "ef4362fd",
   "metadata": {},
   "source": [
    "Below we list the model parameters as symbolically represented in the paper and their corresponding variable name in our code.\n",
    "\n",
    "Option Parameters:\n",
    "\n",
    "$S_0$ = `S0`\n",
    "\n",
    "$K$ = `K`\n",
    "\n",
    "$r$ = `r`\n",
    "\n",
    "$\\sigma$ = `sigma`\n",
    "\n",
    "Discretization parameters:\n",
    "\n",
    "$N$ = `N`\n",
    "\n",
    "$M$ = `M`\n",
    "\n",
    "$x^*$ = `xstar`\n",
    "\n",
    "$a$ = `a`\n",
    "\n",
    "$b$ = `b`\n",
    "\n",
    "Jump and telegraph parameters:\n",
    "\n",
    "$\\sigma_j^+$ = `sigmaJp`\n",
    "\n",
    "$\\sigma_j^-$ = `sigmaJm`\n",
    "\n",
    "$\\mu_j^+$ = `muJp`\n",
    "\n",
    "$\\mu_j^+$ = `muJp`\n",
    "\n",
    "$\\lambda$ = `lbda`\n",
    "\n",
    "$\\zeta^+$ = `zeta_plus`\n",
    "\n",
    "$\\zeta^-$ = `zeta_minus`"
   ]
  },
  {
   "cell_type": "code",
   "execution_count": 1,
   "id": "f73329fc",
   "metadata": {},
   "outputs": [],
   "source": [
    "import math\n",
    "import numpy as np\n",
    "import pandas as pd\n",
    "from scipy.stats import norm\n",
    "\n",
    "#Visualization\n",
    "import seaborn as sns\n",
    "%matplotlib inline\n",
    "import matplotlib.pyplot as plt\n",
    "\n",
    "\n",
    "# Option Params\n",
    "S0 = 20\n",
    "K = 20\n",
    "r = 0.05\n",
    "sigma = 0.25\n",
    "T = 1\n",
    "\n",
    "# Disc Params\n",
    "N = 180\n",
    "M = 517\n",
    "xstar = math.log(4*K)\n",
    "a = 1\n",
    "b = -1\n",
    "\n",
    "# Jump & Telegraph Params\n",
    "sigmaJp = 0.3\n",
    "sigmaJm = 0.22\n",
    "muJp = 0.5\n",
    "muJm = 0.052\n",
    "#v = 0.01\n",
    "lbda = 0.3\n",
    "\n",
    "# Zetas\n",
    "zeta_plus = 0.02\n",
    "zeta_minus = 0.08686\n",
    "\n",
    "# alpha\n",
    "def alpha_plus(sign : bool):\n",
    "    if sign == True:\n",
    "        return r-1/2*sigma**2-lbda*zeta_minus\n",
    "    elif sign == False:\n",
    "        return r-1/2*sigma**2-lbda*zeta_plus\n",
    "\n",
    "# beta\n",
    "beta = r + lbda"
   ]
  },
  {
   "cell_type": "markdown",
   "id": "09431799",
   "metadata": {},
   "source": [
    "## Discretization:\n",
    "\n",
    "The value $\\Delta x$ was assigned above to `deltax`, which allows us to define the space discretization\n",
    "$x_m = -x^* + (m-1)\\Delta x$ for $m = 1,...,M$. We choose to do so by thinking of this as a function\n",
    "\n",
    "\\begin{align}\n",
    "x : \\{1, \\ldots, M \\} &\\to \\mathbb{R} \\\\\n",
    " m & \\mapsto -x^* + (m-1)\\Delta x\n",
    "\\end{align}\n",
    "\n",
    "We do the same for $\\tau_m$.\n",
    "\\begin{align}\n",
    "\\tau : \\{1, \\ldots, N \\} &\\to \\mathbb{R} \\\\\n",
    " n & \\mapsto (n-1)\\Delta \\tau\n",
    "\\end{align}"
   ]
  },
  {
   "cell_type": "code",
   "execution_count": 2,
   "id": "74244867",
   "metadata": {},
   "outputs": [],
   "source": [
    "# Space discretization\n",
    "deltax = 2*xstar / (M-1)\n",
    "def discx(m : int):\n",
    "    return (-1)*xstar + (m-1)*deltax\n",
    "\n",
    "# Time discretization\n",
    "deltatau = T / (N -1)\n",
    "def disctau(n : int):\n",
    "    return (n-1)*deltatau"
   ]
  },
  {
   "cell_type": "markdown",
   "id": "e02b746d",
   "metadata": {},
   "source": [
    "From the paper, and using the correction submitted by the professor, we obtain that:\n",
    "\n",
    "$\\gamma_1^\\pm = -\\frac{\\alpha_{\\pm}}{2\\Delta x} + \\frac{\\sigma^2}{2\\Delta x^2}$    \n",
    "$\\gamma_2 = -\\frac{\\sigma^2}{2\\Delta x^2} - \\beta$    \n",
    "$\\gamma_3^\\pm = \\frac{\\alpha_{\\pm}}{2\\Delta x} + \\frac{\\sigma^2}{2\\Delta x^2}$\n",
    "\n",
    "There are 5 quantities here: $\\gamma_1^+, \\gamma_1^-, \\gamma_2, \\gamma_3^+$ and $\\gamma_3^-$. Given that this is frequently the case throughout the paper, we made the design choice of implementing these objects wrapped around a function with a boolean argument which can be interpreted as the corresponding + or - sign. We stick to the convention that a `True` boolean value corresponds to the + sign, and a `False` value corresponds to the - sign. This is done for purposes of code neatness."
   ]
  },
  {
   "cell_type": "code",
   "execution_count": 3,
   "id": "83ffa9fe",
   "metadata": {},
   "outputs": [],
   "source": [
    "# gamma\n",
    "def gamma_plus_one(sign : bool):\n",
    "    return -alpha_plus(sign)/(2*deltax) + sigma**2/(2*deltax**2)\n",
    "def gamma_plus_two():\n",
    "    return -sigma**2/(deltax**2) - beta\n",
    "def gamma_plus_three(sign : bool):\n",
    "    return alpha_plus(sign)/(2*deltax) + sigma**2/(2*deltax**2)"
   ]
  },
  {
   "cell_type": "markdown",
   "id": "a8a45b98",
   "metadata": {},
   "source": [
    "$L_{\\Delta}^{\\pm} = \\begin{bmatrix}\n",
    "0 & 0 &  &  &  &  \\\\\n",
    "\\gamma_1^{\\pm}& \\gamma_2 & \\gamma_3^{\\pm} &  &  &  \\\\\n",
    "& \\gamma_1^{\\pm}& \\gamma_2 & \\gamma_3^{\\pm} &  &  \\\\\n",
    " & \\ddots & \\ddots & \\ddots &  &  \\\\\n",
    " &  & \\ddots  & \\ddots  & \\ddots  &  \\\\\n",
    " &  &  & \\gamma_1^{\\pm}& \\gamma_2 & \\gamma_3^{\\pm} \\\\\n",
    " &  &  &  & 0 & 0\\\\\n",
    "\\end{bmatrix}$"
   ]
  },
  {
   "cell_type": "code",
   "execution_count": 4,
   "id": "c0f5004b",
   "metadata": {},
   "outputs": [],
   "source": [
    "def L_delta(sign: bool):\n",
    "    zero_row = [0]*M\n",
    "    L = [zero_row]\n",
    "    vals = [gamma_plus_one(sign), gamma_plus_two(), gamma_plus_three(sign)]\n",
    "    for i in range(0, M-2):\n",
    "        L.append([0]*i + vals + [0]*(M-3-i))\n",
    "    L.append(zero_row)\n",
    "    return np.array(L)"
   ]
  },
  {
   "cell_type": "markdown",
   "id": "250d8669",
   "metadata": {},
   "source": [
    "### Defining the vector E:\n",
    "We now define\n",
    "\n",
    "$E_{\\pm}^n = \n",
    "\\begin{bmatrix}\n",
    "0\\\\\n",
    "\\varepsilon_{\\pm}(\\tau_n,x_2) \\\\\n",
    "\\vdots \\\\\n",
    "\\varepsilon_{\\pm}(\\tau_n,x_{M-1}) \\\\\n",
    "0\\\\\n",
    "\\end{bmatrix}$\n",
    "\n",
    "where $\\varepsilon_\\pm (\\tau, x) = \\exp(x+(\\sigma_j^\\pm)^2/2) \\Phi \\Big(\\frac{x-x^*+(\\sigma_j^\\pm)^2}{\\sigma_j^\\pm} \\Big )- K \\exp (-r \\tau) \\Phi \\Big (\\frac{x-x^*}{\\sigma_j^\\pm} \\Big )$. We use the same boolean-sign convention as before."
   ]
  },
  {
   "cell_type": "code",
   "execution_count": 5,
   "id": "1e154c02",
   "metadata": {},
   "outputs": [],
   "source": [
    "def epsilon_plus(sign : bool, x,  tau):\n",
    "    if sign:\n",
    "        return np.exp(x+sigmaJp**2/2)*norm.cdf((x-xstar+sigmaJp**2)/sigmaJp)- K*np.exp(-r*tau)*norm.cdf((x-xstar)/sigmaJp)\n",
    "    else:\n",
    "        return np.exp(x+sigmaJm**2/2)*norm.cdf((x-xstar+sigmaJm**2)/sigmaJm)- K*np.exp(-r*tau)*norm.cdf((x-xstar)/sigmaJm)"
   ]
  },
  {
   "cell_type": "code",
   "execution_count": 6,
   "id": "dcaa3db8",
   "metadata": {},
   "outputs": [],
   "source": [
    "def E_plus(sign : bool,n):\n",
    "    E=[[float(0)]]\n",
    "    for i in range(2,M):\n",
    "        E.append([float(epsilon_plus(sign,disctau(n),discx(i)))])\n",
    "    E.append([0])\n",
    "    return np.array(E)"
   ]
  },
  {
   "cell_type": "markdown",
   "id": "79193a05",
   "metadata": {},
   "source": [
    "In the paper, two functions, $f^+_{i,j}$ and $f^-_{i,j}$, are introduced and necessary for the definition of $M^\\pm$. They are defined below:"
   ]
  },
  {
   "cell_type": "code",
   "execution_count": 7,
   "id": "341b3af1",
   "metadata": {},
   "outputs": [],
   "source": [
    "#f+-\n",
    "def f_plus(sign:bool, a,b):\n",
    "    if sign:\n",
    "        f_= norm.pdf(b-a, muJp, sigmaJp**2)\n",
    "    else:\n",
    "        f_= norm.pdf(b-a, muJm, sigmaJm**2)\n",
    "    return f_"
   ]
  },
  {
   "cell_type": "markdown",
   "id": "8a01918b",
   "metadata": {},
   "source": [
    "The matrix $M^{\\pm}$ is defined by\n",
    "\n",
    "$M^{\\pm} = \\begin{bmatrix}\n",
    "0 & 0 & \\cdots & 0   \\\\\n",
    "\\omega_1 f_{2,1}^{\\mp}& \\omega_2 f_{2,2}^{\\mp}& \\cdots & \\omega_M f_{2,M}^{\\mp}  \\\\\n",
    "\\vdots& \\vdots& \\ddots & \\vdots  \\\\\n",
    "\\omega_{1} f_{M-1,1}^{\\mp}& \\omega_{2} f_{M-1,2}^{\\mp}& \\cdots & \\omega_M f_{M-1,M}^{\\mp}  \\\\\n",
    "0 & 0 & \\cdots & 0   \\\\\n",
    "\\end{bmatrix}$\n",
    "\n",
    "which, like other matrices, we implement as a 2-dimensional `np.array`. Note that the $\\pm$ symbol is inverted within the matrix. Our earlier design choice allows us to negate the boolean argument and easily express the same thing. This improves the readability of our code."
   ]
  },
  {
   "cell_type": "code",
   "execution_count": 8,
   "id": "f042a87e",
   "metadata": {},
   "outputs": [],
   "source": [
    "def M_plus(sign:bool):\n",
    "    zero_row = [0]*M\n",
    "    M_= [zero_row]\n",
    "    for i in range(2,M):\n",
    "        row = [deltax/2 * f_plus(not sign, discx(i), discx(j)) for j in range(2, M)]\n",
    "        row.insert(0, deltax*f_plus(not sign,discx(i), discx(1)))\n",
    "        row.append(deltax/2*f_plus(not sign,discx(i),discx(M)))\n",
    "        M_.append(row)\n",
    "    M_.append(zero_row)\n",
    "    return np.array(M_)"
   ]
  },
  {
   "cell_type": "markdown",
   "id": "183ce3fe",
   "metadata": {},
   "source": [
    "## Solving the linear systems:\n",
    "By looking at our system for a fixed $n$, we can see that $M^\\pm$ does not depend on $n$, and neither does $L_\\Delta^\\pm$. \n",
    "\n",
    "$(aI-\\Delta \\tau L_{\\Delta}^+)U^{n+1} = -bU^{n}+\\Delta \\tau \\lambda(M^+V^{n}+\\lambda E_{+}^{n}) + Bc\\\\$\n",
    "$(aI-\\Delta \\tau L_{\\Delta}^-)V^{n+1} = -bV^{n}+\\Delta \\tau \\lambda(M^-U^{n}+\\lambda E_{-}^{n}) + Bc$\n",
    "\n",
    "Initially we were including their computation within the `for` loop that runs in Step 2 of the algorithm, resulting in unnecessarily slow code that was even difficult to debug given the time it took to produce an output. We solved this problem by defining these objects outside the `for` loop.\n",
    "\n",
    "The vector $E_\\pm^{(n)}$ does depend on $n$ but we chose instead to store everything inside an array. We did so because while debugging our program, it was often the case that we wanted to run Step 2 of the algorithm more than once, and it was significantly slower to be computing these vectors repeatedly."
   ]
  },
  {
   "cell_type": "code",
   "execution_count": 9,
   "id": "5c62d37f",
   "metadata": {},
   "outputs": [],
   "source": [
    "#Memory - Speed Trade-off --- Optimizations\n",
    "\n",
    "M_p = M_plus(True)\n",
    "M_n = M_plus(False)\n",
    "\n",
    "L_delta_p = L_delta(True)\n",
    "L_delta_n = L_delta(False)\n",
    "\n",
    "# Since this is computationally intensive, we separate it into this cell and store it in an array for re-use.\n",
    "E_p = [E_plus(True,n) for n in range(1,N)]\n",
    "E_n = [E_plus(False,n) for n in range(1,N)]"
   ]
  },
  {
   "cell_type": "markdown",
   "id": "37beb59c",
   "metadata": {},
   "source": [
    "The values $(aI-\\Delta \\tau L_{\\Delta}^+)U^{n+1}$ and $(aI-\\Delta \\tau L_{\\Delta}^-)V^{n+1}$ can be immediately computed."
   ]
  },
  {
   "cell_type": "code",
   "execution_count": 10,
   "id": "930cbbb4",
   "metadata": {},
   "outputs": [],
   "source": [
    "lhsU = a*np.eye(M)-deltatau*L_delta_p\n",
    "lhsV = a*np.eye(M)-deltatau*L_delta_n"
   ]
  },
  {
   "cell_type": "markdown",
   "id": "b683fe91",
   "metadata": {},
   "source": [
    "Given that `lhsU` and `lhsV` are tridiagonal matrices, we can use the Thomas Algorithm to solve each linear system in $O(M)$ operation per iteration of the `for` loop. We closely follow the implementation found here https://gist.github.com/cbellei/8ab3ab8551b8dfc8b081c518ccd9ada9 with minor changes."
   ]
  },
  {
   "cell_type": "code",
   "execution_count": 11,
   "id": "5b8b87ce",
   "metadata": {},
   "outputs": [],
   "source": [
    "def thomas_solve(A,d):\n",
    "    a = np.diag(A, k = -1).tolist()\n",
    "    b = np.diag(A, k = 0).tolist()\n",
    "    c = np.diag(A, k = 1).tolist()\n",
    "    \n",
    "    # Number of equations\n",
    "    nf = len(d)\n",
    "    \n",
    "    # copy arrays\n",
    "    ac, bc, cc, dc = a, b, c, d\n",
    "    for it in range(1, nf):\n",
    "        mc = ac[it-1]/bc[it-1]\n",
    "        bc[it] = bc[it] - mc*cc[it-1] \n",
    "        dc[it] = dc[it] - mc*dc[it-1]\n",
    "        \n",
    "    xc = bc\n",
    "    xc[-1] = dc[-1]/bc[-1]\n",
    "\n",
    "    for il in range(nf-2, -1, -1):\n",
    "        xc[il] = (dc[il]-cc[il]*xc[il+1])/bc[il]\n",
    "\n",
    "    return np.array(xc)"
   ]
  },
  {
   "cell_type": "code",
   "execution_count": 12,
   "id": "c3d53944",
   "metadata": {},
   "outputs": [],
   "source": [
    "## STEP 1\n",
    "U = np.array([[max(0,np.exp(discx(m))-K)] for m in range(1,M+1)])\n",
    "V = U\n",
    "\n",
    "# STEP 2\n",
    "for n in range(0,N-1):\n",
    "    \n",
    "    # Compute rhsU\n",
    "    rhsU1 = np.dot(M_p,(V[:,n]).reshape(-1,1))\n",
    "    rhsU2 = np.add(rhsU1,lbda*(E_p[n]))\n",
    "    rhsU3 = deltatau*lbda*(rhsU2)\n",
    "    rhsU4 = np.add(-b*(U[:,n]).reshape(-1,1),rhsU3)\n",
    "    # Boundary conditions (Bc)\n",
    "    rhsU4[0,0] = 0\n",
    "    rhsU4[-1,0] = a*(np.exp(discx(M))-K*np.exp(-r*disctau(n)))\n",
    "     \n",
    "    # Ax=b\n",
    "    U_ = thomas_solve(lhsU, rhsU4)\n",
    "    U = np.append(U,U_, axis=1)\n",
    "\n",
    "    rhsV1 = np.dot(M_n,(U[:,n]).reshape(-1,1))\n",
    "    rhsV2 = np.add(rhsV1,lbda*(E_n[n]))\n",
    "    rhsV3 = deltatau*lbda*(rhsV2)\n",
    "    rhsV4 = np.add(-b*(V[:,n]).reshape(-1,1),rhsV3)\n",
    "    # Boundary conditions (Bc)\n",
    "    rhsV4[0,0] = 0\n",
    "    rhsV4[-1,0] = a*(np.exp(discx(M))-K*np.exp(-r*disctau(n)))\n",
    "\n",
    "    # Ax=b\n",
    "    V_= thomas_solve(lhsV,rhsV4)\n",
    "    V = np.append(V,V_, axis=1)"
   ]
  },
  {
   "cell_type": "markdown",
   "id": "1b7c32d9",
   "metadata": {},
   "source": [
    "## Black and Scholes"
   ]
  },
  {
   "cell_type": "markdown",
   "id": "0bd70d29",
   "metadata": {},
   "source": [
    "The Black-Scholes model can be implemented using the following equations:\n",
    "\n",
    "\\begin{equation}\n",
    "\t\\mathrm C(\\mathrm S,\\mathrm t)= \\mathrm N(\\mathrm d_1)\\mathrm S - \\mathrm N(\\mathrm d_2) \\mathrm K \\mathrm e^{-rt}\n",
    "\t\\label{eq:2}\n",
    "\\end{equation}\n",
    "\n",
    "\\begin{equation}\n",
    "\t\\mathrm d_1= \\frac{1}{\\sigma \\sqrt{\\mathrm t}} \\left[\\ln{\\left(\\frac{S}{K}\\right)} + t\\left(r + \\frac{\\sigma^2}{2} \\right) \\right]\n",
    "\\end{equation}\n",
    "\n",
    "\\begin{equation}\n",
    "\t\\mathrm d_2= \\frac{1}{\\sigma \\sqrt{\\mathrm t}} \\left[\\ln{\\left(\\frac{S}{K}\\right)} + t\\left(r - \\frac{\\sigma^2}{2} \\right) \\right]\n",
    "\\end{equation}\n",
    "\n",
    "Following the original paper we do so for the purpose of comparing with the model under study."
   ]
  },
  {
   "cell_type": "code",
   "execution_count": 13,
   "id": "946d1302",
   "metadata": {},
   "outputs": [],
   "source": [
    "def d1(S_t,K,rate,sigma,maturity_time):\n",
    "    d = (np.log(S_t/K) + (rate+sigma**2/2)*(maturity_time))/(sigma*np.sqrt(maturity_time))\n",
    "    return d\n",
    "\n",
    "def d2(S_t,K,rate,sigma,maturity_time):\n",
    "    d = d1(S_t,K,rate,sigma,maturity_time) - sigma*np.sqrt(maturity_time)\n",
    "    return d\n",
    "\n",
    "def european_call(S_t,K,rate,sigma,maturity_time):\n",
    "    D1 = d1(S_t,K,rate,sigma,maturity_time)\n",
    "    D2 = d2(S_t,K,rate,sigma,maturity_time)\n",
    "    call = S_t*norm.cdf(D1) - K*np.exp(-rate*maturity_time)*norm.cdf(D2)\n",
    "    return call\n"
   ]
  },
  {
   "cell_type": "markdown",
   "id": "d080d70f",
   "metadata": {},
   "source": [
    "## Charts:"
   ]
  },
  {
   "cell_type": "markdown",
   "id": "170cf97d",
   "metadata": {},
   "source": [
    "### Black-Scholes vs. JTDM"
   ]
  },
  {
   "cell_type": "code",
   "execution_count": 14,
   "id": "f1675228",
   "metadata": {},
   "outputs": [
    {
     "data": {
      "image/png": "[encoded data removed]",
      "text/plain": [
       "<Figure size 432x288 with 1 Axes>"
      ]
     },
     "metadata": {
      "needs_background": "light"
     },
     "output_type": "display_data"
    }
   ],
   "source": [
    "plt.rcParams['axes.xmargin'] = 0\n",
    "plt.rcParams['axes.ymargin'] = 0.2\n",
    "\n",
    "#convert vectors into normal lists\n",
    "U_last_vector = [i for i in U[:,-1].reshape(-1,1)]\n",
    "V_last_vector = [i for i in V[:,-1].reshape(-1,1)]\n",
    "\n",
    "#Creating series for chart \n",
    "x_plot = [] #Convert log(S) to exp(log(S))\n",
    "payoff = [] #calculate terminal payoff\n",
    "BS = [] # list of B&S values\n",
    "for i in range(0,len(U_last_vector)):\n",
    "    x_plot.append(np.exp(discx(i)))\n",
    "    payoff.append(max(np.exp(discx(i))-K,0))\n",
    "    BS.append(european_call(np.exp(discx(i)),K,r,sigma,T))\n",
    "\n",
    "# Formula to find the index of closest S value of the chart in the paper\n",
    "def min_diff_pos(array_like, target):\n",
    "    return np.abs(np.array(array_like)-target).argmin()\n",
    "\n",
    "#range of chart in the paper\n",
    "r1 = min_diff_pos(x_plot, 5)\n",
    "r2 = min_diff_pos(x_plot, 30)\n",
    "\n",
    "# Defining range of results\n",
    "x_plot = x_plot[r1:r2]\n",
    "payoff_plot = payoff[r1:r2]\n",
    "U_y = U_last_vector[r1:r2]\n",
    "V_y = V_last_vector[r1:r2]\n",
    "BS_y = BS[r1:r2]\n",
    "\n",
    "\n",
    "# Plot\n",
    "fig, ax = plt.subplots()\n",
    "ax.plot(x_plot, U_y, '--b', label='U(U+)')\n",
    "ax.plot(x_plot, V_y, '--r', label='V(U-)')\n",
    "ax.plot(x_plot, payoff_plot, '-k', label='Pay Off',linewidth=1)\n",
    "ax.plot(x_plot, BS_y, '-g', label='B&S')\n",
    "plt.xlabel('Asset Price')\n",
    "plt.ylabel('Option Value')\n",
    "\n",
    "leg = ax.legend();"
   ]
  },
  {
   "cell_type": "markdown",
   "id": "8de62e65",
   "metadata": {},
   "source": [
    "### Difference between U and V"
   ]
  },
  {
   "cell_type": "code",
   "execution_count": 15,
   "id": "58bd82ad",
   "metadata": {},
   "outputs": [
    {
     "data": {
      "image/png": "[encoded data removed]",
      "text/plain": [
       "<Figure size 432x288 with 1 Axes>"
      ]
     },
     "metadata": {
      "needs_background": "light"
     },
     "output_type": "display_data"
    }
   ],
   "source": [
    "plt.rcParams['axes.xmargin'] = 0\n",
    "plt.rcParams['axes.ymargin'] = 0.2\n",
    "\n",
    "#Creating series for chart \n",
    "x_plot_2 = [] #Convert log(S) to exp(log(S))\n",
    "for i in range(0,len(U_last_vector)):\n",
    "    x_plot_2.append(np.exp(discx(i)))\n",
    "len(x_plot_2)\n",
    "\n",
    "diff = [] #Difference between U and V\n",
    "for u,v in zip(U_last_vector,V_last_vector):\n",
    "    diff.append(u[0]-v[0])\n",
    "\n",
    "# Range of chart in the paper\n",
    "r1 = min_diff_pos(x_plot_2, 0)\n",
    "r2 = min_diff_pos(x_plot_2, 100)\n",
    "\n",
    "# Defining range of results\n",
    "diff = diff[r1:r2]\n",
    "x_plot_2 = x_plot_2[r1:r2]\n",
    "\n",
    "# Plot\n",
    "fig, ax = plt.subplots()\n",
    "ax.plot(x_plot_2, diff, '-', label='U(U+)-V(U-)')\n",
    "plt.axhline(y = 0, color = 'b', linestyle = '--',linewidth=0.5)\n",
    "plt.xlabel('Asset Price')\n",
    "plt.ylabel('Difference')\n",
    "\n",
    "leg = ax.legend();"
   ]
  },
  {
   "cell_type": "code",
   "execution_count": null,
   "id": "01a964c8",
   "metadata": {},
   "outputs": [],
   "source": []
  }
 ],
 "metadata": {
  "kernelspec": {
   "display_name": "Python 3",
   "language": "python",
   "name": "python3"
  },
  "language_info": {
   "codemirror_mode": {
    "name": "ipython",
    "version": 3
   },
   "file_extension": ".py",
   "mimetype": "text/x-python",
   "name": "python",
   "nbconvert_exporter": "python",
   "pygments_lexer": "ipython3",
   "version": "3.8.8"
  }
 },
 "nbformat": 4,
 "nbformat_minor": 5
}
